{
 "cells": [
  {
   "cell_type": "code",
   "execution_count": 1,
   "id": "9972ad87",
   "metadata": {},
   "outputs": [],
   "source": [
    "import pandas as pd"
   ]
  },
  {
   "cell_type": "code",
   "execution_count": 62,
   "id": "65fc74a8",
   "metadata": {},
   "outputs": [],
   "source": [
    "df = pd.read_csv('../Montreal Crime Data.csv', index_col=0)"
   ]
  },
  {
   "cell_type": "code",
   "execution_count": 67,
   "id": "2484e4bd",
   "metadata": {},
   "outputs": [
    {
     "data": {
      "text/html": [
       "<div>\n",
       "<style scoped>\n",
       "    .dataframe tbody tr th:only-of-type {\n",
       "        vertical-align: middle;\n",
       "    }\n",
       "\n",
       "    .dataframe tbody tr th {\n",
       "        vertical-align: top;\n",
       "    }\n",
       "\n",
       "    .dataframe thead th {\n",
       "        text-align: right;\n",
       "    }\n",
       "</style>\n",
       "<table border=\"1\" class=\"dataframe\">\n",
       "  <thead>\n",
       "    <tr style=\"text-align: right;\">\n",
       "      <th></th>\n",
       "      <th>category</th>\n",
       "      <th>date</th>\n",
       "      <th>postal_code</th>\n",
       "      <th>city</th>\n",
       "      <th>neighbourhood</th>\n",
       "      <th>year</th>\n",
       "      <th>count</th>\n",
       "      <th>longitude</th>\n",
       "      <th>latitude</th>\n",
       "    </tr>\n",
       "  </thead>\n",
       "  <tbody>\n",
       "    <tr>\n",
       "      <th>0</th>\n",
       "      <td>Motor vehicle theft</td>\n",
       "      <td>2018-09-13</td>\n",
       "      <td>H1Z 1S9</td>\n",
       "      <td>MONTREAL</td>\n",
       "      <td>Saint-Michel</td>\n",
       "      <td>2018</td>\n",
       "      <td>1</td>\n",
       "      <td>-73.626</td>\n",
       "      <td>45.567</td>\n",
       "    </tr>\n",
       "    <tr>\n",
       "      <th>1</th>\n",
       "      <td>Motor vehicle theft</td>\n",
       "      <td>2018-04-30</td>\n",
       "      <td>H1Z 1S9</td>\n",
       "      <td>MONTREAL</td>\n",
       "      <td>Saint-Michel</td>\n",
       "      <td>2018</td>\n",
       "      <td>1</td>\n",
       "      <td>-73.626</td>\n",
       "      <td>45.567</td>\n",
       "    </tr>\n",
       "    <tr>\n",
       "      <th>2</th>\n",
       "      <td>Home Invasion</td>\n",
       "      <td>2018-01-10</td>\n",
       "      <td>H1Z 2V6</td>\n",
       "      <td>MONTREAL</td>\n",
       "      <td>Saint-Michel</td>\n",
       "      <td>2018</td>\n",
       "      <td>1</td>\n",
       "      <td>-73.629</td>\n",
       "      <td>45.569</td>\n",
       "    </tr>\n",
       "    <tr>\n",
       "      <th>3</th>\n",
       "      <td>Mischief</td>\n",
       "      <td>2018-11-12</td>\n",
       "      <td>H1Z 2V6</td>\n",
       "      <td>MONTREAL</td>\n",
       "      <td>Saint-Michel</td>\n",
       "      <td>2018</td>\n",
       "      <td>1</td>\n",
       "      <td>-73.629</td>\n",
       "      <td>45.569</td>\n",
       "    </tr>\n",
       "    <tr>\n",
       "      <th>4</th>\n",
       "      <td>Mischief</td>\n",
       "      <td>2018-08-15</td>\n",
       "      <td>H1Z 2V6</td>\n",
       "      <td>MONTREAL</td>\n",
       "      <td>Saint-Michel</td>\n",
       "      <td>2018</td>\n",
       "      <td>1</td>\n",
       "      <td>-73.629</td>\n",
       "      <td>45.569</td>\n",
       "    </tr>\n",
       "  </tbody>\n",
       "</table>\n",
       "</div>"
      ],
      "text/plain": [
       "              category        date postal_code      city neighbourhood  year  \\\n",
       "0  Motor vehicle theft  2018-09-13     H1Z 1S9  MONTREAL  Saint-Michel  2018   \n",
       "1  Motor vehicle theft  2018-04-30     H1Z 1S9  MONTREAL  Saint-Michel  2018   \n",
       "2        Home Invasion  2018-01-10     H1Z 2V6  MONTREAL  Saint-Michel  2018   \n",
       "3             Mischief  2018-11-12     H1Z 2V6  MONTREAL  Saint-Michel  2018   \n",
       "4             Mischief  2018-08-15     H1Z 2V6  MONTREAL  Saint-Michel  2018   \n",
       "\n",
       "   count  longitude  latitude  \n",
       "0      1    -73.626    45.567  \n",
       "1      1    -73.626    45.567  \n",
       "2      1    -73.629    45.569  \n",
       "3      1    -73.629    45.569  \n",
       "4      1    -73.629    45.569  "
      ]
     },
     "execution_count": 67,
     "metadata": {},
     "output_type": "execute_result"
    }
   ],
   "source": [
    "df.head()"
   ]
  },
  {
   "cell_type": "code",
   "execution_count": 68,
   "id": "728a6974",
   "metadata": {},
   "outputs": [
    {
     "data": {
      "text/plain": [
       "['Ahuntsic',\n",
       " 'Anjou',\n",
       " 'Beaconsfield',\n",
       " 'Cartierville',\n",
       " 'Centre-Sud',\n",
       " 'Côte Saint-Luc',\n",
       " 'Côte-des-Neiges',\n",
       " 'Dollard-des-Ormeaux',\n",
       " 'Dorval',\n",
       " \"Dorval / L'Île-Dorval\",\n",
       " 'Downtown Montreal',\n",
       " 'Griffintown(Includes Île Notre-Dame & Île Sainte-Hélène)(Université de Montréal)',\n",
       " 'Hampstead / Côte Saint-Luc',\n",
       " 'Hochelaga',\n",
       " 'Kirkland',\n",
       " \"L'Île-Bizard\",\n",
       " \"L'Île-Des-Soeurs\",\n",
       " 'Lachine',\n",
       " 'Lasalle',\n",
       " 'Maisonneuve',\n",
       " 'Mercier',\n",
       " 'Montreal East',\n",
       " 'Montreal West',\n",
       " 'Montréal-Nord',\n",
       " 'Mount Royal',\n",
       " 'Notre-Dame-de-Grâce',\n",
       " 'Old Montreal',\n",
       " 'Outremont',\n",
       " 'Parc-Extension',\n",
       " 'Petite-Bourgogne',\n",
       " 'Petite-Patrie',\n",
       " 'Pierrefonds',\n",
       " 'Pierrefonds-Roxboro',\n",
       " 'Plateau Mont-Royal',\n",
       " 'Pointe-Claire',\n",
       " 'Pointe-Saint-Charles',\n",
       " 'Pointe-aux-Trembles',\n",
       " 'Rivière-des-Prairies',\n",
       " 'Rosemont',\n",
       " 'Saint-Henri',\n",
       " 'Saint-Laurent',\n",
       " 'Saint-Léonard',\n",
       " 'Saint-Michel',\n",
       " 'Saint-Michel,East',\n",
       " 'Sainte-Anne-De-Bellevue',\n",
       " 'Sainte-Geneviève / Pierrefonds',\n",
       " 'Senneville',\n",
       " 'Verdun',\n",
       " 'Ville Émard',\n",
       " 'Villeray',\n",
       " 'Westmount']"
      ]
     },
     "execution_count": 68,
     "metadata": {},
     "output_type": "execute_result"
    }
   ],
   "source": [
    "#list of neighbourhoods \n",
    "\n",
    "list = df['neighbourhood'].sort_values().unique().tolist()\n",
    "list\n"
   ]
  },
  {
   "cell_type": "code",
   "execution_count": 69,
   "id": "7a361e6a",
   "metadata": {},
   "outputs": [
    {
     "data": {
      "text/plain": [
       "['Ahuntsic-Cartierville',\n",
       " 'Anjou',\n",
       " \"Baie-d'Urfé\",\n",
       " 'Beaconsfield',\n",
       " 'Côte-Saint-Luc',\n",
       " 'Côte-des-Neiges-Notre-Dame-de-Grâce',\n",
       " 'Dollard-des-Ormeaux',\n",
       " 'Dorval',\n",
       " 'Hampstead',\n",
       " 'Kirkland',\n",
       " \"L'Île-Bizard-Sainte-Geneviève\",\n",
       " \"L'Île-Dorval\",\n",
       " 'LaSalle',\n",
       " 'Lachine',\n",
       " 'Le Plateau-Mont-Royal',\n",
       " 'Le Sud-Ouest',\n",
       " 'Mercier-Hochelaga-Maisonneuve',\n",
       " 'Mont-Royal',\n",
       " 'Montréal-Est',\n",
       " 'Montréal-Nord',\n",
       " 'Montréal-Ouest',\n",
       " 'Outremont',\n",
       " 'Pierrefonds-Roxboro',\n",
       " 'Pointe-Claire',\n",
       " 'Rivière-des-Prairies-Pointe-aux-Trembles',\n",
       " 'Rosemont-La Petite-Patrie',\n",
       " 'Saint-Laurent',\n",
       " 'Saint-Léonard',\n",
       " 'Sainte-Anne-de-Bellevue',\n",
       " 'Senneville',\n",
       " 'Verdun',\n",
       " 'Ville-Marie',\n",
       " 'Villeray-Saint-Michel-Parc-Extension',\n",
       " 'Westmount']"
      ]
     },
     "execution_count": 69,
     "metadata": {},
     "output_type": "execute_result"
    }
   ],
   "source": [
    "#list of boroughs\n",
    "str = \"Outremont,LaSalle,Mont-Royal,Ville-Marie,Le Plateau-Mont-Royal,Hampstead,Le Sud-Ouest,Rivière-des-Prairies-Pointe-aux-Trembles,Lachine,Dorval,Montréal-Nord,L'Île-Bizard-Sainte-Geneviève,Kirkland,Dollard-des-Ormeaux,Senneville,Ahuntsic-Cartierville,Côte-Saint-Luc,Saint-Léonard,Montréal-Ouest,Pointe-Claire,L'Île-Dorval,Mercier-Hochelaga-Maisonneuve,Côte-des-Neiges-Notre-Dame-de-Grâce,Rosemont-La Petite-Patrie,Saint-Laurent,Beaconsfield,Villeray-Saint-Michel-Parc-Extension,Westmount,Montréal-Est,Anjou,Pierrefonds-Roxboro,Sainte-Anne-de-Bellevue,Verdun,Baie-d'Urfé\"\n",
    "boroughs = str.split(',')\n",
    "sorted(boroughs)"
   ]
  },
  {
   "cell_type": "code",
   "execution_count": 70,
   "id": "4a4e11af",
   "metadata": {},
   "outputs": [],
   "source": [
    "dict = {\n",
    "    'Ahuntsic':'Ahuntsic-Cartierville',\n",
    "    'Cartierville':'Ahuntsic-Cartierville',\n",
    "    'Centre-Sud':'Ville-Marie',\n",
    "    'Côte Saint-Luc':'Côte-Saint-Luc',\n",
    "    'Côte-des-Neiges': 'Côte-des-Neiges-Notre-Dame-de-Grâce',\n",
    "    \"Dorval / L'Île-Dorval\": \"L'Île-Dorval\",\n",
    "    'Downtown Montreal' : 'Ville-Marie',\n",
    "    'Griffintown(Includes Île Notre-Dame & Île Sainte-Hélène)(Université de Montréal)' : 'Le Sud-Ouest',\n",
    "    'Hampstead / Côte Saint-Luc' : 'Côte-Saint-Luc',\n",
    "    'Hochelaga':'Mercier-Hochelaga-Maisonneuve',\n",
    "    \"L'Île-Bizard\":\"L'Île-Bizard-Sainte-Geneviève\",\n",
    "    \"L'Île-Des-Soeurs\":'Verdun',\n",
    "    'Lasalle':'LaSalle',\n",
    "    'Maisonneuve': 'Mercier-Hochelaga-Maisonneuve',\n",
    "    'Mercier': 'Mercier-Hochelaga-Maisonneuve',\n",
    "    'Montreal East' : 'Montréal-Est',\n",
    "    \"Montreal West\":'Montréal-Ouest',\n",
    "    'Montréal-Nord':'Montréal-Nord',\n",
    "    'Mount Royal': 'Mont-Royal',\n",
    "    'Notre-Dame-de-Grâce': 'Côte-des-Neiges-Notre-Dame-de-Grâce',\n",
    "    'Old Montreal': 'Ville-Marie',\n",
    "    'Parc-Extension' : 'Villeray-Saint-Michel-Parc-Extension',\n",
    "    'Petite-Bourgogne' : 'Le Sud-Ouest',\n",
    "    'Petite-Patrie':'Rosemont-La Petite-Patrie',\n",
    "    'Pierrefonds':'Pierrefonds-Roxboro',\n",
    "    'Plateau Mont-Royal':'Le Plateau-Mont-Royal',\n",
    "    'Pointe-Saint-Charles' : 'Le Sud-Ouest',\n",
    "    'Pointe-aux-Trembles':  'Rivière-des-Prairies-Pointe-aux-Trembles',\n",
    "    'Rivière-des-Prairies' : 'Rivière-des-Prairies-Pointe-aux-Trembles',\n",
    "    'Rosemont' : 'Rosemont-La Petite-Patrie',\n",
    "    'Saint-Henri': 'Le Sud-Ouest',\n",
    "    'Saint-Michel' : 'Villeray-Saint-Michel-Parc-Extension',\n",
    "    'Saint-Michel,East' : 'Villeray-Saint-Michel-Parc-Extension',\n",
    "    'Sainte-Geneviève / Pierrefonds' : 'Pierrefonds-Roxboro',\n",
    "    'Ville Émard':'Le Sud-Ouest',\n",
    "    'Villeray' : 'Villeray-Saint-Michel-Parc-Extension',\n",
    "    \n",
    "}"
   ]
  },
  {
   "cell_type": "code",
   "execution_count": 71,
   "id": "53a9807e",
   "metadata": {},
   "outputs": [],
   "source": [
    "df['boroughs'] = df['neighbourhood']"
   ]
  },
  {
   "cell_type": "code",
   "execution_count": 72,
   "id": "40274734",
   "metadata": {},
   "outputs": [],
   "source": [
    "#reorder columns\n",
    "cols = df.columns.tolist()\n",
    "cols = [\n",
    " 'category',\n",
    " 'date',\n",
    " 'postal_code',\n",
    " 'city',\n",
    " 'neighbourhood',\n",
    " 'boroughs',\n",
    " 'year',\n",
    " 'count',\n",
    " 'longitude',\n",
    " 'latitude']\n",
    "\n",
    "df = df[cols]\n"
   ]
  },
  {
   "cell_type": "code",
   "execution_count": 73,
   "id": "a6a1c61a",
   "metadata": {},
   "outputs": [],
   "source": [
    "df['boroughs'] = df['boroughs'].replace('boroughs',dict)"
   ]
  },
  {
   "cell_type": "code",
   "execution_count": 78,
   "id": "89e2862b",
   "metadata": {},
   "outputs": [],
   "source": [
    "df.drop(['city', 'count'], axis=1, inplace=True)"
   ]
  },
  {
   "cell_type": "code",
   "execution_count": 80,
   "id": "c69b31c7",
   "metadata": {},
   "outputs": [],
   "source": [
    "df.to_csv(\"cleaned_montreal_crime\")"
   ]
  },
  {
   "cell_type": "code",
   "execution_count": null,
   "id": "cd5f9b1b",
   "metadata": {},
   "outputs": [],
   "source": []
  }
 ],
 "metadata": {
  "kernelspec": {
   "display_name": "Python 3 (ipykernel)",
   "language": "python",
   "name": "python3"
  },
  "language_info": {
   "codemirror_mode": {
    "name": "ipython",
    "version": 3
   },
   "file_extension": ".py",
   "mimetype": "text/x-python",
   "name": "python",
   "nbconvert_exporter": "python",
   "pygments_lexer": "ipython3",
   "version": "3.7.11"
  }
 },
 "nbformat": 4,
 "nbformat_minor": 5
}
